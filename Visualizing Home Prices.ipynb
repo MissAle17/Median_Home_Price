{
 "cells": [
  {
   "cell_type": "markdown",
   "metadata": {},
   "source": [
    " Looking to find the most expensive metro areas by median home price in the US.\n",
    " \n",
    "Context\n",
    "\n",
    "Zillow has a lot of data about housing prices in America.\n",
    "\n",
    "Content\n",
    "\n",
    "Data about housing prices and rental prices broken down according to city and state and number of bedrooms. More detail can be found at https://www.zillow.com/research/data/ and at https://www.zillow.com/research/home-sales-methodology-7733/.\n",
    "\n",
    "Acknowledgements\n",
    "\n",
    "The data was downloaded from https://www.zillow.com/research/data/. Banner photo from Ian Keefe on Unsplash. Dataset license described at https://www.zillow.com/research/data/."
   ]
  },
  {
   "cell_type": "code",
   "execution_count": 1,
   "metadata": {},
   "outputs": [],
   "source": [
    "#data organization and upload\n",
    "import numpy as np\n",
    "import pandas as pd\n",
    "\n",
    "#visualizations\n",
    "import seaborn as sns\n",
    "import matplotlib.pyplot as plt\n",
    "%matplotlib inline \n",
    "\n",
    "#setting filter warnings to ignore to keep our notebook clean\n",
    "import warnings\n",
    "warnings.filterwarnings(\"ignore\")"
   ]
  },
  {
   "cell_type": "code",
   "execution_count": 2,
   "metadata": {},
   "outputs": [],
   "source": [
    "data = pd.read_csv(\"City_Zhvi_2bedroom.csv\")"
   ]
  },
  {
   "cell_type": "code",
   "execution_count": 3,
   "metadata": {},
   "outputs": [
    {
     "data": {
      "text/html": [
       "<div>\n",
       "<style scoped>\n",
       "    .dataframe tbody tr th:only-of-type {\n",
       "        vertical-align: middle;\n",
       "    }\n",
       "\n",
       "    .dataframe tbody tr th {\n",
       "        vertical-align: top;\n",
       "    }\n",
       "\n",
       "    .dataframe thead th {\n",
       "        text-align: right;\n",
       "    }\n",
       "</style>\n",
       "<table border=\"1\" class=\"dataframe\">\n",
       "  <thead>\n",
       "    <tr style=\"text-align: right;\">\n",
       "      <th></th>\n",
       "      <th>Unnamed: 0</th>\n",
       "      <th>RegionID</th>\n",
       "      <th>RegionName</th>\n",
       "      <th>State</th>\n",
       "      <th>Metro</th>\n",
       "      <th>CountyName</th>\n",
       "      <th>SizeRank</th>\n",
       "      <th>2008-01</th>\n",
       "      <th>2008-02</th>\n",
       "      <th>2008-03</th>\n",
       "      <th>...</th>\n",
       "      <th>2019-02</th>\n",
       "      <th>2019-03</th>\n",
       "      <th>2019-04</th>\n",
       "      <th>2019-05</th>\n",
       "      <th>2019-06</th>\n",
       "      <th>2019-07</th>\n",
       "      <th>2019-08</th>\n",
       "      <th>2019-09</th>\n",
       "      <th>2019-10</th>\n",
       "      <th>2019-11</th>\n",
       "    </tr>\n",
       "  </thead>\n",
       "  <tbody>\n",
       "    <tr>\n",
       "      <td>0</td>\n",
       "      <td>0</td>\n",
       "      <td>6181</td>\n",
       "      <td>New York</td>\n",
       "      <td>NY</td>\n",
       "      <td>New York-Newark-Jersey City</td>\n",
       "      <td>Queens County</td>\n",
       "      <td>1</td>\n",
       "      <td>576827.0</td>\n",
       "      <td>576551.0</td>\n",
       "      <td>575294.000000</td>\n",
       "      <td>...</td>\n",
       "      <td>755775.000000</td>\n",
       "      <td>755544.000000</td>\n",
       "      <td>755377.333333</td>\n",
       "      <td>755510.333333</td>\n",
       "      <td>754488.666667</td>\n",
       "      <td>753482.666667</td>\n",
       "      <td>751084.000000</td>\n",
       "      <td>747943.000000</td>\n",
       "      <td>745139.333333</td>\n",
       "      <td>743173.333333</td>\n",
       "    </tr>\n",
       "    <tr>\n",
       "      <td>1</td>\n",
       "      <td>1</td>\n",
       "      <td>12447</td>\n",
       "      <td>Los Angeles</td>\n",
       "      <td>CA</td>\n",
       "      <td>Los Angeles-Long Beach-Anaheim</td>\n",
       "      <td>Los Angeles County</td>\n",
       "      <td>2</td>\n",
       "      <td>NaN</td>\n",
       "      <td>NaN</td>\n",
       "      <td>NaN</td>\n",
       "      <td>...</td>\n",
       "      <td>599677.666667</td>\n",
       "      <td>598162.333333</td>\n",
       "      <td>598823.000000</td>\n",
       "      <td>600231.000000</td>\n",
       "      <td>603184.333333</td>\n",
       "      <td>607904.666667</td>\n",
       "      <td>613860.000000</td>\n",
       "      <td>620111.666667</td>\n",
       "      <td>623957.333333</td>\n",
       "      <td>626501.666667</td>\n",
       "    </tr>\n",
       "    <tr>\n",
       "      <td>2</td>\n",
       "      <td>2</td>\n",
       "      <td>39051</td>\n",
       "      <td>Houston</td>\n",
       "      <td>TX</td>\n",
       "      <td>Houston-The Woodlands-Sugar Land</td>\n",
       "      <td>Harris County</td>\n",
       "      <td>3</td>\n",
       "      <td>97050.0</td>\n",
       "      <td>96793.5</td>\n",
       "      <td>96671.666667</td>\n",
       "      <td>...</td>\n",
       "      <td>135923.000000</td>\n",
       "      <td>136778.666667</td>\n",
       "      <td>137111.666667</td>\n",
       "      <td>137613.666667</td>\n",
       "      <td>138303.000000</td>\n",
       "      <td>138913.333333</td>\n",
       "      <td>139524.000000</td>\n",
       "      <td>139964.666667</td>\n",
       "      <td>140836.000000</td>\n",
       "      <td>140799.000000</td>\n",
       "    </tr>\n",
       "    <tr>\n",
       "      <td>3</td>\n",
       "      <td>3</td>\n",
       "      <td>17426</td>\n",
       "      <td>Chicago</td>\n",
       "      <td>IL</td>\n",
       "      <td>Chicago-Naperville-Elgin</td>\n",
       "      <td>Cook County</td>\n",
       "      <td>4</td>\n",
       "      <td>NaN</td>\n",
       "      <td>NaN</td>\n",
       "      <td>NaN</td>\n",
       "      <td>...</td>\n",
       "      <td>226506.333333</td>\n",
       "      <td>226949.666667</td>\n",
       "      <td>227951.000000</td>\n",
       "      <td>228515.333333</td>\n",
       "      <td>228289.000000</td>\n",
       "      <td>227479.666667</td>\n",
       "      <td>226601.333333</td>\n",
       "      <td>225887.333333</td>\n",
       "      <td>225615.666667</td>\n",
       "      <td>225706.000000</td>\n",
       "    </tr>\n",
       "    <tr>\n",
       "      <td>4</td>\n",
       "      <td>4</td>\n",
       "      <td>6915</td>\n",
       "      <td>San Antonio</td>\n",
       "      <td>TX</td>\n",
       "      <td>San Antonio-New Braunfels</td>\n",
       "      <td>Bexar County</td>\n",
       "      <td>5</td>\n",
       "      <td>80354.0</td>\n",
       "      <td>80612.0</td>\n",
       "      <td>80738.666667</td>\n",
       "      <td>...</td>\n",
       "      <td>116293.333333</td>\n",
       "      <td>117501.000000</td>\n",
       "      <td>118332.666667</td>\n",
       "      <td>118989.666667</td>\n",
       "      <td>119935.333333</td>\n",
       "      <td>120798.000000</td>\n",
       "      <td>121715.000000</td>\n",
       "      <td>122682.000000</td>\n",
       "      <td>122805.666667</td>\n",
       "      <td>122679.000000</td>\n",
       "    </tr>\n",
       "  </tbody>\n",
       "</table>\n",
       "<p>5 rows × 150 columns</p>\n",
       "</div>"
      ],
      "text/plain": [
       "   Unnamed: 0  RegionID   RegionName State                             Metro  \\\n",
       "0           0      6181     New York    NY       New York-Newark-Jersey City   \n",
       "1           1     12447  Los Angeles    CA    Los Angeles-Long Beach-Anaheim   \n",
       "2           2     39051      Houston    TX  Houston-The Woodlands-Sugar Land   \n",
       "3           3     17426      Chicago    IL          Chicago-Naperville-Elgin   \n",
       "4           4      6915  San Antonio    TX         San Antonio-New Braunfels   \n",
       "\n",
       "           CountyName  SizeRank   2008-01   2008-02        2008-03  ...  \\\n",
       "0       Queens County         1  576827.0  576551.0  575294.000000  ...   \n",
       "1  Los Angeles County         2       NaN       NaN            NaN  ...   \n",
       "2       Harris County         3   97050.0   96793.5   96671.666667  ...   \n",
       "3         Cook County         4       NaN       NaN            NaN  ...   \n",
       "4        Bexar County         5   80354.0   80612.0   80738.666667  ...   \n",
       "\n",
       "         2019-02        2019-03        2019-04        2019-05        2019-06  \\\n",
       "0  755775.000000  755544.000000  755377.333333  755510.333333  754488.666667   \n",
       "1  599677.666667  598162.333333  598823.000000  600231.000000  603184.333333   \n",
       "2  135923.000000  136778.666667  137111.666667  137613.666667  138303.000000   \n",
       "3  226506.333333  226949.666667  227951.000000  228515.333333  228289.000000   \n",
       "4  116293.333333  117501.000000  118332.666667  118989.666667  119935.333333   \n",
       "\n",
       "         2019-07        2019-08        2019-09        2019-10        2019-11  \n",
       "0  753482.666667  751084.000000  747943.000000  745139.333333  743173.333333  \n",
       "1  607904.666667  613860.000000  620111.666667  623957.333333  626501.666667  \n",
       "2  138913.333333  139524.000000  139964.666667  140836.000000  140799.000000  \n",
       "3  227479.666667  226601.333333  225887.333333  225615.666667  225706.000000  \n",
       "4  120798.000000  121715.000000  122682.000000  122805.666667  122679.000000  \n",
       "\n",
       "[5 rows x 150 columns]"
      ]
     },
     "execution_count": 3,
     "metadata": {},
     "output_type": "execute_result"
    }
   ],
   "source": [
    "data.head()"
   ]
  },
  {
   "cell_type": "code",
   "execution_count": 4,
   "metadata": {},
   "outputs": [],
   "source": [
    "columns = list(data.columns)\n",
    "columns = columns[1:]"
   ]
  },
  {
   "cell_type": "code",
   "execution_count": 5,
   "metadata": {},
   "outputs": [
    {
     "data": {
      "text/html": [
       "<div>\n",
       "<style scoped>\n",
       "    .dataframe tbody tr th:only-of-type {\n",
       "        vertical-align: middle;\n",
       "    }\n",
       "\n",
       "    .dataframe tbody tr th {\n",
       "        vertical-align: top;\n",
       "    }\n",
       "\n",
       "    .dataframe thead th {\n",
       "        text-align: right;\n",
       "    }\n",
       "</style>\n",
       "<table border=\"1\" class=\"dataframe\">\n",
       "  <thead>\n",
       "    <tr style=\"text-align: right;\">\n",
       "      <th></th>\n",
       "      <th>RegionID</th>\n",
       "      <th>RegionName</th>\n",
       "      <th>State</th>\n",
       "      <th>Metro</th>\n",
       "      <th>CountyName</th>\n",
       "      <th>SizeRank</th>\n",
       "      <th>2008-01</th>\n",
       "      <th>2008-02</th>\n",
       "      <th>2008-03</th>\n",
       "      <th>2008-04</th>\n",
       "      <th>...</th>\n",
       "      <th>2019-02</th>\n",
       "      <th>2019-03</th>\n",
       "      <th>2019-04</th>\n",
       "      <th>2019-05</th>\n",
       "      <th>2019-06</th>\n",
       "      <th>2019-07</th>\n",
       "      <th>2019-08</th>\n",
       "      <th>2019-09</th>\n",
       "      <th>2019-10</th>\n",
       "      <th>2019-11</th>\n",
       "    </tr>\n",
       "  </thead>\n",
       "  <tbody>\n",
       "    <tr>\n",
       "      <td>0</td>\n",
       "      <td>6181</td>\n",
       "      <td>New York</td>\n",
       "      <td>NY</td>\n",
       "      <td>New York-Newark-Jersey City</td>\n",
       "      <td>Queens County</td>\n",
       "      <td>1</td>\n",
       "      <td>576827.0</td>\n",
       "      <td>576551.0</td>\n",
       "      <td>575294.000000</td>\n",
       "      <td>573466.333333</td>\n",
       "      <td>...</td>\n",
       "      <td>755775.000000</td>\n",
       "      <td>755544.000000</td>\n",
       "      <td>755377.333333</td>\n",
       "      <td>755510.333333</td>\n",
       "      <td>754488.666667</td>\n",
       "      <td>753482.666667</td>\n",
       "      <td>751084.000000</td>\n",
       "      <td>747943.000000</td>\n",
       "      <td>745139.333333</td>\n",
       "      <td>743173.333333</td>\n",
       "    </tr>\n",
       "    <tr>\n",
       "      <td>1</td>\n",
       "      <td>12447</td>\n",
       "      <td>Los Angeles</td>\n",
       "      <td>CA</td>\n",
       "      <td>Los Angeles-Long Beach-Anaheim</td>\n",
       "      <td>Los Angeles County</td>\n",
       "      <td>2</td>\n",
       "      <td>NaN</td>\n",
       "      <td>NaN</td>\n",
       "      <td>NaN</td>\n",
       "      <td>NaN</td>\n",
       "      <td>...</td>\n",
       "      <td>599677.666667</td>\n",
       "      <td>598162.333333</td>\n",
       "      <td>598823.000000</td>\n",
       "      <td>600231.000000</td>\n",
       "      <td>603184.333333</td>\n",
       "      <td>607904.666667</td>\n",
       "      <td>613860.000000</td>\n",
       "      <td>620111.666667</td>\n",
       "      <td>623957.333333</td>\n",
       "      <td>626501.666667</td>\n",
       "    </tr>\n",
       "    <tr>\n",
       "      <td>2</td>\n",
       "      <td>39051</td>\n",
       "      <td>Houston</td>\n",
       "      <td>TX</td>\n",
       "      <td>Houston-The Woodlands-Sugar Land</td>\n",
       "      <td>Harris County</td>\n",
       "      <td>3</td>\n",
       "      <td>97050.0</td>\n",
       "      <td>96793.5</td>\n",
       "      <td>96671.666667</td>\n",
       "      <td>96087.000000</td>\n",
       "      <td>...</td>\n",
       "      <td>135923.000000</td>\n",
       "      <td>136778.666667</td>\n",
       "      <td>137111.666667</td>\n",
       "      <td>137613.666667</td>\n",
       "      <td>138303.000000</td>\n",
       "      <td>138913.333333</td>\n",
       "      <td>139524.000000</td>\n",
       "      <td>139964.666667</td>\n",
       "      <td>140836.000000</td>\n",
       "      <td>140799.000000</td>\n",
       "    </tr>\n",
       "    <tr>\n",
       "      <td>3</td>\n",
       "      <td>17426</td>\n",
       "      <td>Chicago</td>\n",
       "      <td>IL</td>\n",
       "      <td>Chicago-Naperville-Elgin</td>\n",
       "      <td>Cook County</td>\n",
       "      <td>4</td>\n",
       "      <td>NaN</td>\n",
       "      <td>NaN</td>\n",
       "      <td>NaN</td>\n",
       "      <td>213804.000000</td>\n",
       "      <td>...</td>\n",
       "      <td>226506.333333</td>\n",
       "      <td>226949.666667</td>\n",
       "      <td>227951.000000</td>\n",
       "      <td>228515.333333</td>\n",
       "      <td>228289.000000</td>\n",
       "      <td>227479.666667</td>\n",
       "      <td>226601.333333</td>\n",
       "      <td>225887.333333</td>\n",
       "      <td>225615.666667</td>\n",
       "      <td>225706.000000</td>\n",
       "    </tr>\n",
       "    <tr>\n",
       "      <td>4</td>\n",
       "      <td>6915</td>\n",
       "      <td>San Antonio</td>\n",
       "      <td>TX</td>\n",
       "      <td>San Antonio-New Braunfels</td>\n",
       "      <td>Bexar County</td>\n",
       "      <td>5</td>\n",
       "      <td>80354.0</td>\n",
       "      <td>80612.0</td>\n",
       "      <td>80738.666667</td>\n",
       "      <td>80994.333333</td>\n",
       "      <td>...</td>\n",
       "      <td>116293.333333</td>\n",
       "      <td>117501.000000</td>\n",
       "      <td>118332.666667</td>\n",
       "      <td>118989.666667</td>\n",
       "      <td>119935.333333</td>\n",
       "      <td>120798.000000</td>\n",
       "      <td>121715.000000</td>\n",
       "      <td>122682.000000</td>\n",
       "      <td>122805.666667</td>\n",
       "      <td>122679.000000</td>\n",
       "    </tr>\n",
       "  </tbody>\n",
       "</table>\n",
       "<p>5 rows × 149 columns</p>\n",
       "</div>"
      ],
      "text/plain": [
       "   RegionID   RegionName State                             Metro  \\\n",
       "0      6181     New York    NY       New York-Newark-Jersey City   \n",
       "1     12447  Los Angeles    CA    Los Angeles-Long Beach-Anaheim   \n",
       "2     39051      Houston    TX  Houston-The Woodlands-Sugar Land   \n",
       "3     17426      Chicago    IL          Chicago-Naperville-Elgin   \n",
       "4      6915  San Antonio    TX         San Antonio-New Braunfels   \n",
       "\n",
       "           CountyName  SizeRank   2008-01   2008-02        2008-03  \\\n",
       "0       Queens County         1  576827.0  576551.0  575294.000000   \n",
       "1  Los Angeles County         2       NaN       NaN            NaN   \n",
       "2       Harris County         3   97050.0   96793.5   96671.666667   \n",
       "3         Cook County         4       NaN       NaN            NaN   \n",
       "4        Bexar County         5   80354.0   80612.0   80738.666667   \n",
       "\n",
       "         2008-04  ...        2019-02        2019-03        2019-04  \\\n",
       "0  573466.333333  ...  755775.000000  755544.000000  755377.333333   \n",
       "1            NaN  ...  599677.666667  598162.333333  598823.000000   \n",
       "2   96087.000000  ...  135923.000000  136778.666667  137111.666667   \n",
       "3  213804.000000  ...  226506.333333  226949.666667  227951.000000   \n",
       "4   80994.333333  ...  116293.333333  117501.000000  118332.666667   \n",
       "\n",
       "         2019-05        2019-06        2019-07        2019-08        2019-09  \\\n",
       "0  755510.333333  754488.666667  753482.666667  751084.000000  747943.000000   \n",
       "1  600231.000000  603184.333333  607904.666667  613860.000000  620111.666667   \n",
       "2  137613.666667  138303.000000  138913.333333  139524.000000  139964.666667   \n",
       "3  228515.333333  228289.000000  227479.666667  226601.333333  225887.333333   \n",
       "4  118989.666667  119935.333333  120798.000000  121715.000000  122682.000000   \n",
       "\n",
       "         2019-10        2019-11  \n",
       "0  745139.333333  743173.333333  \n",
       "1  623957.333333  626501.666667  \n",
       "2  140836.000000  140799.000000  \n",
       "3  225615.666667  225706.000000  \n",
       "4  122805.666667  122679.000000  \n",
       "\n",
       "[5 rows x 149 columns]"
      ]
     },
     "execution_count": 5,
     "metadata": {},
     "output_type": "execute_result"
    }
   ],
   "source": [
    "df =data[columns]\n",
    "df.head()"
   ]
  },
  {
   "cell_type": "code",
   "execution_count": 6,
   "metadata": {},
   "outputs": [
    {
     "name": "stdout",
     "output_type": "stream",
     "text": [
      "<class 'pandas.core.frame.DataFrame'>\n",
      "RangeIndex: 19552 entries, 0 to 19551\n",
      "Columns: 149 entries, RegionID to 2019-11\n",
      "dtypes: float64(143), int64(2), object(4)\n",
      "memory usage: 22.2+ MB\n"
     ]
    }
   ],
   "source": [
    "df.info()"
   ]
  },
  {
   "cell_type": "code",
   "execution_count": 7,
   "metadata": {},
   "outputs": [
    {
     "data": {
      "text/plain": [
       "19552"
      ]
     },
     "execution_count": 7,
     "metadata": {},
     "output_type": "execute_result"
    }
   ],
   "source": [
    "len(df.RegionID.unique())"
   ]
  },
  {
   "cell_type": "code",
   "execution_count": 8,
   "metadata": {},
   "outputs": [
    {
     "data": {
      "text/plain": [
       "850"
      ]
     },
     "execution_count": 8,
     "metadata": {},
     "output_type": "execute_result"
    }
   ],
   "source": [
    "len(df.Metro.unique())"
   ]
  },
  {
   "cell_type": "markdown",
   "metadata": {},
   "source": [
    "Monthly data from Jan 2008 to November 2019.  142 months, 19,551 cities or towns and 850 metro areas"
   ]
  },
  {
   "cell_type": "markdown",
   "metadata": {},
   "source": [
    "deal with nans - first in metro"
   ]
  },
  {
   "cell_type": "code",
   "execution_count": 9,
   "metadata": {},
   "outputs": [],
   "source": [
    "metro_df = df.copy()\n",
    "metro_df.fillna(0,inplace=True)"
   ]
  },
  {
   "cell_type": "code",
   "execution_count": 10,
   "metadata": {},
   "outputs": [
    {
     "data": {
      "text/plain": [
       "RegionID      0\n",
       "RegionName    0\n",
       "State         0\n",
       "Metro         0\n",
       "CountyName    0\n",
       "SizeRank      0\n",
       "dtype: int64"
      ]
     },
     "execution_count": 10,
     "metadata": {},
     "output_type": "execute_result"
    }
   ],
   "source": [
    "metro_df.iloc[:,:6].isna().sum()"
   ]
  },
  {
   "cell_type": "code",
   "execution_count": 11,
   "metadata": {},
   "outputs": [
    {
     "name": "stdout",
     "output_type": "stream",
     "text": [
      "22.25% loss of data\n"
     ]
    }
   ],
   "source": [
    "print(\"{}% loss of data\".format(round((4350/19551)*100,2)))"
   ]
  },
  {
   "cell_type": "markdown",
   "metadata": {},
   "source": [
    "ouch but some cities dont have metros believe it or not.  so Even though there is a big loss i think its the right move to drop\n",
    "\n"
   ]
  },
  {
   "cell_type": "code",
   "execution_count": 12,
   "metadata": {},
   "outputs": [
    {
     "data": {
      "text/plain": [
       "RegionID      0\n",
       "RegionName    0\n",
       "State         0\n",
       "Metro         0\n",
       "CountyName    0\n",
       "SizeRank      0\n",
       "dtype: int64"
      ]
     },
     "execution_count": 12,
     "metadata": {},
     "output_type": "execute_result"
    }
   ],
   "source": [
    "metro_df.iloc[:,:6].isna().sum()"
   ]
  },
  {
   "cell_type": "code",
   "execution_count": 13,
   "metadata": {},
   "outputs": [
    {
     "data": {
      "text/plain": [
       "4350"
      ]
     },
     "execution_count": 13,
     "metadata": {},
     "output_type": "execute_result"
    }
   ],
   "source": [
    "metro_df.Metro[metro_df.Metro == 0].count()"
   ]
  },
  {
   "cell_type": "code",
   "execution_count": 14,
   "metadata": {},
   "outputs": [],
   "source": [
    "metro_df.drop(metro_df.index[metro_df.Metro ==0], inplace = True)\n"
   ]
  },
  {
   "cell_type": "code",
   "execution_count": 15,
   "metadata": {},
   "outputs": [
    {
     "data": {
      "text/html": [
       "<div>\n",
       "<style scoped>\n",
       "    .dataframe tbody tr th:only-of-type {\n",
       "        vertical-align: middle;\n",
       "    }\n",
       "\n",
       "    .dataframe tbody tr th {\n",
       "        vertical-align: top;\n",
       "    }\n",
       "\n",
       "    .dataframe thead th {\n",
       "        text-align: right;\n",
       "    }\n",
       "</style>\n",
       "<table border=\"1\" class=\"dataframe\">\n",
       "  <thead>\n",
       "    <tr style=\"text-align: right;\">\n",
       "      <th></th>\n",
       "      <th>RegionID</th>\n",
       "      <th>RegionName</th>\n",
       "      <th>State</th>\n",
       "      <th>Metro</th>\n",
       "      <th>CountyName</th>\n",
       "      <th>SizeRank</th>\n",
       "      <th>2008-01</th>\n",
       "      <th>2008-02</th>\n",
       "      <th>2008-03</th>\n",
       "      <th>2008-04</th>\n",
       "      <th>...</th>\n",
       "      <th>2019-02</th>\n",
       "      <th>2019-03</th>\n",
       "      <th>2019-04</th>\n",
       "      <th>2019-05</th>\n",
       "      <th>2019-06</th>\n",
       "      <th>2019-07</th>\n",
       "      <th>2019-08</th>\n",
       "      <th>2019-09</th>\n",
       "      <th>2019-10</th>\n",
       "      <th>2019-11</th>\n",
       "    </tr>\n",
       "  </thead>\n",
       "  <tbody>\n",
       "    <tr>\n",
       "      <td>0</td>\n",
       "      <td>6181</td>\n",
       "      <td>New York</td>\n",
       "      <td>NY</td>\n",
       "      <td>New York-Newark-Jersey City</td>\n",
       "      <td>Queens County</td>\n",
       "      <td>1</td>\n",
       "      <td>576827.0</td>\n",
       "      <td>576551.0</td>\n",
       "      <td>575294.000000</td>\n",
       "      <td>573466.333333</td>\n",
       "      <td>...</td>\n",
       "      <td>755775.000000</td>\n",
       "      <td>755544.000000</td>\n",
       "      <td>755377.333333</td>\n",
       "      <td>755510.333333</td>\n",
       "      <td>754488.666667</td>\n",
       "      <td>753482.666667</td>\n",
       "      <td>751084.000000</td>\n",
       "      <td>747943.000000</td>\n",
       "      <td>745139.333333</td>\n",
       "      <td>743173.333333</td>\n",
       "    </tr>\n",
       "    <tr>\n",
       "      <td>1</td>\n",
       "      <td>12447</td>\n",
       "      <td>Los Angeles</td>\n",
       "      <td>CA</td>\n",
       "      <td>Los Angeles-Long Beach-Anaheim</td>\n",
       "      <td>Los Angeles County</td>\n",
       "      <td>2</td>\n",
       "      <td>0.0</td>\n",
       "      <td>0.0</td>\n",
       "      <td>0.000000</td>\n",
       "      <td>0.000000</td>\n",
       "      <td>...</td>\n",
       "      <td>599677.666667</td>\n",
       "      <td>598162.333333</td>\n",
       "      <td>598823.000000</td>\n",
       "      <td>600231.000000</td>\n",
       "      <td>603184.333333</td>\n",
       "      <td>607904.666667</td>\n",
       "      <td>613860.000000</td>\n",
       "      <td>620111.666667</td>\n",
       "      <td>623957.333333</td>\n",
       "      <td>626501.666667</td>\n",
       "    </tr>\n",
       "    <tr>\n",
       "      <td>2</td>\n",
       "      <td>39051</td>\n",
       "      <td>Houston</td>\n",
       "      <td>TX</td>\n",
       "      <td>Houston-The Woodlands-Sugar Land</td>\n",
       "      <td>Harris County</td>\n",
       "      <td>3</td>\n",
       "      <td>97050.0</td>\n",
       "      <td>96793.5</td>\n",
       "      <td>96671.666667</td>\n",
       "      <td>96087.000000</td>\n",
       "      <td>...</td>\n",
       "      <td>135923.000000</td>\n",
       "      <td>136778.666667</td>\n",
       "      <td>137111.666667</td>\n",
       "      <td>137613.666667</td>\n",
       "      <td>138303.000000</td>\n",
       "      <td>138913.333333</td>\n",
       "      <td>139524.000000</td>\n",
       "      <td>139964.666667</td>\n",
       "      <td>140836.000000</td>\n",
       "      <td>140799.000000</td>\n",
       "    </tr>\n",
       "    <tr>\n",
       "      <td>3</td>\n",
       "      <td>17426</td>\n",
       "      <td>Chicago</td>\n",
       "      <td>IL</td>\n",
       "      <td>Chicago-Naperville-Elgin</td>\n",
       "      <td>Cook County</td>\n",
       "      <td>4</td>\n",
       "      <td>0.0</td>\n",
       "      <td>0.0</td>\n",
       "      <td>0.000000</td>\n",
       "      <td>213804.000000</td>\n",
       "      <td>...</td>\n",
       "      <td>226506.333333</td>\n",
       "      <td>226949.666667</td>\n",
       "      <td>227951.000000</td>\n",
       "      <td>228515.333333</td>\n",
       "      <td>228289.000000</td>\n",
       "      <td>227479.666667</td>\n",
       "      <td>226601.333333</td>\n",
       "      <td>225887.333333</td>\n",
       "      <td>225615.666667</td>\n",
       "      <td>225706.000000</td>\n",
       "    </tr>\n",
       "    <tr>\n",
       "      <td>4</td>\n",
       "      <td>6915</td>\n",
       "      <td>San Antonio</td>\n",
       "      <td>TX</td>\n",
       "      <td>San Antonio-New Braunfels</td>\n",
       "      <td>Bexar County</td>\n",
       "      <td>5</td>\n",
       "      <td>80354.0</td>\n",
       "      <td>80612.0</td>\n",
       "      <td>80738.666667</td>\n",
       "      <td>80994.333333</td>\n",
       "      <td>...</td>\n",
       "      <td>116293.333333</td>\n",
       "      <td>117501.000000</td>\n",
       "      <td>118332.666667</td>\n",
       "      <td>118989.666667</td>\n",
       "      <td>119935.333333</td>\n",
       "      <td>120798.000000</td>\n",
       "      <td>121715.000000</td>\n",
       "      <td>122682.000000</td>\n",
       "      <td>122805.666667</td>\n",
       "      <td>122679.000000</td>\n",
       "    </tr>\n",
       "  </tbody>\n",
       "</table>\n",
       "<p>5 rows × 149 columns</p>\n",
       "</div>"
      ],
      "text/plain": [
       "   RegionID   RegionName State                             Metro  \\\n",
       "0      6181     New York    NY       New York-Newark-Jersey City   \n",
       "1     12447  Los Angeles    CA    Los Angeles-Long Beach-Anaheim   \n",
       "2     39051      Houston    TX  Houston-The Woodlands-Sugar Land   \n",
       "3     17426      Chicago    IL          Chicago-Naperville-Elgin   \n",
       "4      6915  San Antonio    TX         San Antonio-New Braunfels   \n",
       "\n",
       "           CountyName  SizeRank   2008-01   2008-02        2008-03  \\\n",
       "0       Queens County         1  576827.0  576551.0  575294.000000   \n",
       "1  Los Angeles County         2       0.0       0.0       0.000000   \n",
       "2       Harris County         3   97050.0   96793.5   96671.666667   \n",
       "3         Cook County         4       0.0       0.0       0.000000   \n",
       "4        Bexar County         5   80354.0   80612.0   80738.666667   \n",
       "\n",
       "         2008-04  ...        2019-02        2019-03        2019-04  \\\n",
       "0  573466.333333  ...  755775.000000  755544.000000  755377.333333   \n",
       "1       0.000000  ...  599677.666667  598162.333333  598823.000000   \n",
       "2   96087.000000  ...  135923.000000  136778.666667  137111.666667   \n",
       "3  213804.000000  ...  226506.333333  226949.666667  227951.000000   \n",
       "4   80994.333333  ...  116293.333333  117501.000000  118332.666667   \n",
       "\n",
       "         2019-05        2019-06        2019-07        2019-08        2019-09  \\\n",
       "0  755510.333333  754488.666667  753482.666667  751084.000000  747943.000000   \n",
       "1  600231.000000  603184.333333  607904.666667  613860.000000  620111.666667   \n",
       "2  137613.666667  138303.000000  138913.333333  139524.000000  139964.666667   \n",
       "3  228515.333333  228289.000000  227479.666667  226601.333333  225887.333333   \n",
       "4  118989.666667  119935.333333  120798.000000  121715.000000  122682.000000   \n",
       "\n",
       "         2019-10        2019-11  \n",
       "0  745139.333333  743173.333333  \n",
       "1  623957.333333  626501.666667  \n",
       "2  140836.000000  140799.000000  \n",
       "3  225615.666667  225706.000000  \n",
       "4  122805.666667  122679.000000  \n",
       "\n",
       "[5 rows x 149 columns]"
      ]
     },
     "execution_count": 15,
     "metadata": {},
     "output_type": "execute_result"
    }
   ],
   "source": [
    "metro_df.head()"
   ]
  },
  {
   "cell_type": "code",
   "execution_count": 16,
   "metadata": {},
   "outputs": [
    {
     "data": {
      "text/plain": [
       "RegionID      0\n",
       "RegionName    0\n",
       "State         0\n",
       "Metro         0\n",
       "CountyName    0\n",
       "SizeRank      0\n",
       "dtype: int64"
      ]
     },
     "execution_count": 16,
     "metadata": {},
     "output_type": "execute_result"
    }
   ],
   "source": [
    "metro_df.iloc[:,:6].isna().sum()"
   ]
  },
  {
   "cell_type": "code",
   "execution_count": 17,
   "metadata": {},
   "outputs": [],
   "source": [
    "metro_df = metro_df.iloc[:,1:]"
   ]
  },
  {
   "cell_type": "code",
   "execution_count": 18,
   "metadata": {},
   "outputs": [
    {
     "data": {
      "text/html": [
       "<div>\n",
       "<style scoped>\n",
       "    .dataframe tbody tr th:only-of-type {\n",
       "        vertical-align: middle;\n",
       "    }\n",
       "\n",
       "    .dataframe tbody tr th {\n",
       "        vertical-align: top;\n",
       "    }\n",
       "\n",
       "    .dataframe thead th {\n",
       "        text-align: right;\n",
       "    }\n",
       "</style>\n",
       "<table border=\"1\" class=\"dataframe\">\n",
       "  <thead>\n",
       "    <tr style=\"text-align: right;\">\n",
       "      <th></th>\n",
       "      <th>RegionName</th>\n",
       "      <th>State</th>\n",
       "      <th>Metro</th>\n",
       "      <th>CountyName</th>\n",
       "      <th>SizeRank</th>\n",
       "      <th>2008-01</th>\n",
       "      <th>2008-02</th>\n",
       "      <th>2008-03</th>\n",
       "      <th>2008-04</th>\n",
       "      <th>2008-05</th>\n",
       "      <th>...</th>\n",
       "      <th>2019-02</th>\n",
       "      <th>2019-03</th>\n",
       "      <th>2019-04</th>\n",
       "      <th>2019-05</th>\n",
       "      <th>2019-06</th>\n",
       "      <th>2019-07</th>\n",
       "      <th>2019-08</th>\n",
       "      <th>2019-09</th>\n",
       "      <th>2019-10</th>\n",
       "      <th>2019-11</th>\n",
       "    </tr>\n",
       "  </thead>\n",
       "  <tbody>\n",
       "    <tr>\n",
       "      <td>0</td>\n",
       "      <td>New York</td>\n",
       "      <td>NY</td>\n",
       "      <td>New York-Newark-Jersey City</td>\n",
       "      <td>Queens County</td>\n",
       "      <td>1</td>\n",
       "      <td>576827.0</td>\n",
       "      <td>576551.0</td>\n",
       "      <td>575294.000000</td>\n",
       "      <td>573466.333333</td>\n",
       "      <td>569521.0</td>\n",
       "      <td>...</td>\n",
       "      <td>755775.000000</td>\n",
       "      <td>755544.000000</td>\n",
       "      <td>755377.333333</td>\n",
       "      <td>755510.333333</td>\n",
       "      <td>754488.666667</td>\n",
       "      <td>753482.666667</td>\n",
       "      <td>751084.000000</td>\n",
       "      <td>747943.000000</td>\n",
       "      <td>745139.333333</td>\n",
       "      <td>743173.333333</td>\n",
       "    </tr>\n",
       "    <tr>\n",
       "      <td>1</td>\n",
       "      <td>Los Angeles</td>\n",
       "      <td>CA</td>\n",
       "      <td>Los Angeles-Long Beach-Anaheim</td>\n",
       "      <td>Los Angeles County</td>\n",
       "      <td>2</td>\n",
       "      <td>0.0</td>\n",
       "      <td>0.0</td>\n",
       "      <td>0.000000</td>\n",
       "      <td>0.000000</td>\n",
       "      <td>0.0</td>\n",
       "      <td>...</td>\n",
       "      <td>599677.666667</td>\n",
       "      <td>598162.333333</td>\n",
       "      <td>598823.000000</td>\n",
       "      <td>600231.000000</td>\n",
       "      <td>603184.333333</td>\n",
       "      <td>607904.666667</td>\n",
       "      <td>613860.000000</td>\n",
       "      <td>620111.666667</td>\n",
       "      <td>623957.333333</td>\n",
       "      <td>626501.666667</td>\n",
       "    </tr>\n",
       "    <tr>\n",
       "      <td>2</td>\n",
       "      <td>Houston</td>\n",
       "      <td>TX</td>\n",
       "      <td>Houston-The Woodlands-Sugar Land</td>\n",
       "      <td>Harris County</td>\n",
       "      <td>3</td>\n",
       "      <td>97050.0</td>\n",
       "      <td>96793.5</td>\n",
       "      <td>96671.666667</td>\n",
       "      <td>96087.000000</td>\n",
       "      <td>95375.0</td>\n",
       "      <td>...</td>\n",
       "      <td>135923.000000</td>\n",
       "      <td>136778.666667</td>\n",
       "      <td>137111.666667</td>\n",
       "      <td>137613.666667</td>\n",
       "      <td>138303.000000</td>\n",
       "      <td>138913.333333</td>\n",
       "      <td>139524.000000</td>\n",
       "      <td>139964.666667</td>\n",
       "      <td>140836.000000</td>\n",
       "      <td>140799.000000</td>\n",
       "    </tr>\n",
       "    <tr>\n",
       "      <td>3</td>\n",
       "      <td>Chicago</td>\n",
       "      <td>IL</td>\n",
       "      <td>Chicago-Naperville-Elgin</td>\n",
       "      <td>Cook County</td>\n",
       "      <td>4</td>\n",
       "      <td>0.0</td>\n",
       "      <td>0.0</td>\n",
       "      <td>0.000000</td>\n",
       "      <td>213804.000000</td>\n",
       "      <td>215913.0</td>\n",
       "      <td>...</td>\n",
       "      <td>226506.333333</td>\n",
       "      <td>226949.666667</td>\n",
       "      <td>227951.000000</td>\n",
       "      <td>228515.333333</td>\n",
       "      <td>228289.000000</td>\n",
       "      <td>227479.666667</td>\n",
       "      <td>226601.333333</td>\n",
       "      <td>225887.333333</td>\n",
       "      <td>225615.666667</td>\n",
       "      <td>225706.000000</td>\n",
       "    </tr>\n",
       "    <tr>\n",
       "      <td>4</td>\n",
       "      <td>San Antonio</td>\n",
       "      <td>TX</td>\n",
       "      <td>San Antonio-New Braunfels</td>\n",
       "      <td>Bexar County</td>\n",
       "      <td>5</td>\n",
       "      <td>80354.0</td>\n",
       "      <td>80612.0</td>\n",
       "      <td>80738.666667</td>\n",
       "      <td>80994.333333</td>\n",
       "      <td>80945.0</td>\n",
       "      <td>...</td>\n",
       "      <td>116293.333333</td>\n",
       "      <td>117501.000000</td>\n",
       "      <td>118332.666667</td>\n",
       "      <td>118989.666667</td>\n",
       "      <td>119935.333333</td>\n",
       "      <td>120798.000000</td>\n",
       "      <td>121715.000000</td>\n",
       "      <td>122682.000000</td>\n",
       "      <td>122805.666667</td>\n",
       "      <td>122679.000000</td>\n",
       "    </tr>\n",
       "  </tbody>\n",
       "</table>\n",
       "<p>5 rows × 148 columns</p>\n",
       "</div>"
      ],
      "text/plain": [
       "    RegionName State                             Metro          CountyName  \\\n",
       "0     New York    NY       New York-Newark-Jersey City       Queens County   \n",
       "1  Los Angeles    CA    Los Angeles-Long Beach-Anaheim  Los Angeles County   \n",
       "2      Houston    TX  Houston-The Woodlands-Sugar Land       Harris County   \n",
       "3      Chicago    IL          Chicago-Naperville-Elgin         Cook County   \n",
       "4  San Antonio    TX         San Antonio-New Braunfels        Bexar County   \n",
       "\n",
       "   SizeRank   2008-01   2008-02        2008-03        2008-04   2008-05  ...  \\\n",
       "0         1  576827.0  576551.0  575294.000000  573466.333333  569521.0  ...   \n",
       "1         2       0.0       0.0       0.000000       0.000000       0.0  ...   \n",
       "2         3   97050.0   96793.5   96671.666667   96087.000000   95375.0  ...   \n",
       "3         4       0.0       0.0       0.000000  213804.000000  215913.0  ...   \n",
       "4         5   80354.0   80612.0   80738.666667   80994.333333   80945.0  ...   \n",
       "\n",
       "         2019-02        2019-03        2019-04        2019-05        2019-06  \\\n",
       "0  755775.000000  755544.000000  755377.333333  755510.333333  754488.666667   \n",
       "1  599677.666667  598162.333333  598823.000000  600231.000000  603184.333333   \n",
       "2  135923.000000  136778.666667  137111.666667  137613.666667  138303.000000   \n",
       "3  226506.333333  226949.666667  227951.000000  228515.333333  228289.000000   \n",
       "4  116293.333333  117501.000000  118332.666667  118989.666667  119935.333333   \n",
       "\n",
       "         2019-07        2019-08        2019-09        2019-10        2019-11  \n",
       "0  753482.666667  751084.000000  747943.000000  745139.333333  743173.333333  \n",
       "1  607904.666667  613860.000000  620111.666667  623957.333333  626501.666667  \n",
       "2  138913.333333  139524.000000  139964.666667  140836.000000  140799.000000  \n",
       "3  227479.666667  226601.333333  225887.333333  225615.666667  225706.000000  \n",
       "4  120798.000000  121715.000000  122682.000000  122805.666667  122679.000000  \n",
       "\n",
       "[5 rows x 148 columns]"
      ]
     },
     "execution_count": 18,
     "metadata": {},
     "output_type": "execute_result"
    }
   ],
   "source": [
    "metro_df.head()"
   ]
  },
  {
   "cell_type": "code",
   "execution_count": 19,
   "metadata": {},
   "outputs": [],
   "source": [
    "df_prices = pd.DataFrame(columns =['region', 'state', 'metro','size_rank','mean'])"
   ]
  },
  {
   "cell_type": "code",
   "execution_count": 20,
   "metadata": {},
   "outputs": [
    {
     "name": "stdout",
     "output_type": "stream",
     "text": [
      "<class 'pandas.core.frame.DataFrame'>\n",
      "Index: 0 entries\n",
      "Data columns (total 5 columns):\n",
      "region       0 non-null object\n",
      "state        0 non-null object\n",
      "metro        0 non-null object\n",
      "size_rank    0 non-null object\n",
      "mean         0 non-null object\n",
      "dtypes: object(5)\n",
      "memory usage: 0.0+ bytes\n"
     ]
    }
   ],
   "source": [
    "df_prices.info()"
   ]
  },
  {
   "cell_type": "code",
   "execution_count": 21,
   "metadata": {},
   "outputs": [],
   "source": [
    "df_prices.region = metro_df.RegionName\n",
    "df_prices.state = metro_df.State\n",
    "df_prices.metro = metro_df.Metro\n",
    "df_prices.size_rank = metro_df.SizeRank"
   ]
  },
  {
   "cell_type": "code",
   "execution_count": 22,
   "metadata": {},
   "outputs": [],
   "source": [
    "means = []\n",
    "for i in range(len(df_prices.region)):\n",
    "    val = np.mean(metro_df.iloc[i,6:])\n",
    "    means.append(val)\n",
    "df_prices['mean'] = means"
   ]
  },
  {
   "cell_type": "code",
   "execution_count": 23,
   "metadata": {},
   "outputs": [
    {
     "name": "stdout",
     "output_type": "stream",
     "text": [
      "<class 'pandas.core.frame.DataFrame'>\n",
      "Int64Index: 15202 entries, 0 to 19551\n",
      "Data columns (total 5 columns):\n",
      "region       15202 non-null object\n",
      "state        15202 non-null object\n",
      "metro        15202 non-null object\n",
      "size_rank    15202 non-null int64\n",
      "mean         15202 non-null float64\n",
      "dtypes: float64(1), int64(1), object(3)\n",
      "memory usage: 712.6+ KB\n"
     ]
    }
   ],
   "source": [
    "df_prices.info()"
   ]
  },
  {
   "cell_type": "markdown",
   "metadata": {},
   "source": [
    "food for thought - use the mean or median of the median home prices.  "
   ]
  },
  {
   "cell_type": "code",
   "execution_count": 24,
   "metadata": {},
   "outputs": [],
   "source": [
    "metros = list(df_prices.metro.unique())"
   ]
  },
  {
   "cell_type": "code",
   "execution_count": 29,
   "metadata": {},
   "outputs": [],
   "source": [
    "metro_dict = {}\n",
    "for msa in metros:        \n",
    "    metro_dict[msa]= np.mean(df_prices[df_prices.metro==msa])"
   ]
  },
  {
   "cell_type": "code",
   "execution_count": 33,
   "metadata": {},
   "outputs": [
    {
     "data": {
      "text/plain": [
       "size_rank      5893.636511\n",
       "mean         314474.951721\n",
       "dtype: float64"
      ]
     },
     "execution_count": 33,
     "metadata": {},
     "output_type": "execute_result"
    }
   ],
   "source": [
    "metro_dict['New York-Newark-Jersey City']"
   ]
  },
  {
   "cell_type": "markdown",
   "metadata": {},
   "source": [
    "find the top - plot circle for median price with city size as the other dimension?  plot scatter/line/bar? where each dot is a city and the height of the dot is the median price?  create a sorted list high to low? \n",
    "\n",
    "consider finding the median income for each msa and comparing that vs. median price to arrive at true affordability of home ownership"
   ]
  },
  {
   "cell_type": "code",
   "execution_count": 36,
   "metadata": {},
   "outputs": [],
   "source": [
    "mean_metro = {}\n",
    "\n",
    "for msa in metros:\n",
    "    mean_metro[msa]= round(metro_dict[msa][1],2)"
   ]
  },
  {
   "cell_type": "code",
   "execution_count": 37,
   "metadata": {},
   "outputs": [
    {
     "data": {
      "text/plain": [
       "314474.95"
      ]
     },
     "execution_count": 37,
     "metadata": {},
     "output_type": "execute_result"
    }
   ],
   "source": [
    "mean_metro['New York-Newark-Jersey City']"
   ]
  },
  {
   "cell_type": "code",
   "execution_count": 41,
   "metadata": {},
   "outputs": [],
   "source": [
    "msa_price = pd.DataFrame(columns = ['MSA','MeanPrice'])\n"
   ]
  },
  {
   "cell_type": "code",
   "execution_count": 42,
   "metadata": {},
   "outputs": [],
   "source": [
    "msa_price.MSA = mean_metro.keys()\n",
    "msa_price.MeanPrice = mean_metro.values()"
   ]
  },
  {
   "cell_type": "code",
   "execution_count": 43,
   "metadata": {},
   "outputs": [
    {
     "data": {
      "text/html": [
       "<div>\n",
       "<style scoped>\n",
       "    .dataframe tbody tr th:only-of-type {\n",
       "        vertical-align: middle;\n",
       "    }\n",
       "\n",
       "    .dataframe tbody tr th {\n",
       "        vertical-align: top;\n",
       "    }\n",
       "\n",
       "    .dataframe thead th {\n",
       "        text-align: right;\n",
       "    }\n",
       "</style>\n",
       "<table border=\"1\" class=\"dataframe\">\n",
       "  <thead>\n",
       "    <tr style=\"text-align: right;\">\n",
       "      <th></th>\n",
       "      <th>MSA</th>\n",
       "      <th>MeanPrice</th>\n",
       "    </tr>\n",
       "  </thead>\n",
       "  <tbody>\n",
       "    <tr>\n",
       "      <td>0</td>\n",
       "      <td>New York-Newark-Jersey City</td>\n",
       "      <td>314474.95</td>\n",
       "    </tr>\n",
       "    <tr>\n",
       "      <td>1</td>\n",
       "      <td>Los Angeles-Long Beach-Anaheim</td>\n",
       "      <td>369116.05</td>\n",
       "    </tr>\n",
       "    <tr>\n",
       "      <td>2</td>\n",
       "      <td>Houston-The Woodlands-Sugar Land</td>\n",
       "      <td>107003.34</td>\n",
       "    </tr>\n",
       "    <tr>\n",
       "      <td>3</td>\n",
       "      <td>Chicago-Naperville-Elgin</td>\n",
       "      <td>133582.97</td>\n",
       "    </tr>\n",
       "    <tr>\n",
       "      <td>4</td>\n",
       "      <td>San Antonio-New Braunfels</td>\n",
       "      <td>140443.56</td>\n",
       "    </tr>\n",
       "  </tbody>\n",
       "</table>\n",
       "</div>"
      ],
      "text/plain": [
       "                                MSA  MeanPrice\n",
       "0       New York-Newark-Jersey City  314474.95\n",
       "1    Los Angeles-Long Beach-Anaheim  369116.05\n",
       "2  Houston-The Woodlands-Sugar Land  107003.34\n",
       "3          Chicago-Naperville-Elgin  133582.97\n",
       "4         San Antonio-New Braunfels  140443.56"
      ]
     },
     "execution_count": 43,
     "metadata": {},
     "output_type": "execute_result"
    }
   ],
   "source": [
    "msa_price.head()"
   ]
  },
  {
   "cell_type": "code",
   "execution_count": 51,
   "metadata": {},
   "outputs": [],
   "source": [
    "msa_mean_sort =msa_price.sort_values(by = ['MeanPrice'], ascending=False)"
   ]
  },
  {
   "cell_type": "code",
   "execution_count": 52,
   "metadata": {},
   "outputs": [
    {
     "data": {
      "text/html": [
       "<div>\n",
       "<style scoped>\n",
       "    .dataframe tbody tr th:only-of-type {\n",
       "        vertical-align: middle;\n",
       "    }\n",
       "\n",
       "    .dataframe tbody tr th {\n",
       "        vertical-align: top;\n",
       "    }\n",
       "\n",
       "    .dataframe thead th {\n",
       "        text-align: right;\n",
       "    }\n",
       "</style>\n",
       "<table border=\"1\" class=\"dataframe\">\n",
       "  <thead>\n",
       "    <tr style=\"text-align: right;\">\n",
       "      <th></th>\n",
       "      <th>index</th>\n",
       "      <th>MSA</th>\n",
       "      <th>MeanPrice</th>\n",
       "    </tr>\n",
       "  </thead>\n",
       "  <tbody>\n",
       "    <tr>\n",
       "      <td>0</td>\n",
       "      <td>11</td>\n",
       "      <td>San Jose-Sunnyvale-Santa Clara</td>\n",
       "      <td>643333.35</td>\n",
       "    </tr>\n",
       "    <tr>\n",
       "      <td>1</td>\n",
       "      <td>96</td>\n",
       "      <td>Port St. Lucie</td>\n",
       "      <td>574089.90</td>\n",
       "    </tr>\n",
       "    <tr>\n",
       "      <td>2</td>\n",
       "      <td>806</td>\n",
       "      <td>Vineyard Haven</td>\n",
       "      <td>545349.88</td>\n",
       "    </tr>\n",
       "    <tr>\n",
       "      <td>3</td>\n",
       "      <td>613</td>\n",
       "      <td>Kapaa</td>\n",
       "      <td>499137.71</td>\n",
       "    </tr>\n",
       "    <tr>\n",
       "      <td>4</td>\n",
       "      <td>14</td>\n",
       "      <td>San Francisco-Oakland-Hayward</td>\n",
       "      <td>457746.34</td>\n",
       "    </tr>\n",
       "    <tr>\n",
       "      <td>5</td>\n",
       "      <td>432</td>\n",
       "      <td>Kahului-Wailuku-Lahaina</td>\n",
       "      <td>429485.62</td>\n",
       "    </tr>\n",
       "    <tr>\n",
       "      <td>6</td>\n",
       "      <td>128</td>\n",
       "      <td>Santa Maria-Santa Barbara</td>\n",
       "      <td>423260.87</td>\n",
       "    </tr>\n",
       "    <tr>\n",
       "      <td>7</td>\n",
       "      <td>1</td>\n",
       "      <td>Los Angeles-Long Beach-Anaheim</td>\n",
       "      <td>369116.05</td>\n",
       "    </tr>\n",
       "    <tr>\n",
       "      <td>8</td>\n",
       "      <td>43</td>\n",
       "      <td>Urban Honolulu</td>\n",
       "      <td>354167.97</td>\n",
       "    </tr>\n",
       "    <tr>\n",
       "      <td>9</td>\n",
       "      <td>97</td>\n",
       "      <td>Salinas</td>\n",
       "      <td>341460.01</td>\n",
       "    </tr>\n",
       "  </tbody>\n",
       "</table>\n",
       "</div>"
      ],
      "text/plain": [
       "   index                             MSA  MeanPrice\n",
       "0     11  San Jose-Sunnyvale-Santa Clara  643333.35\n",
       "1     96                  Port St. Lucie  574089.90\n",
       "2    806                  Vineyard Haven  545349.88\n",
       "3    613                           Kapaa  499137.71\n",
       "4     14   San Francisco-Oakland-Hayward  457746.34\n",
       "5    432         Kahului-Wailuku-Lahaina  429485.62\n",
       "6    128       Santa Maria-Santa Barbara  423260.87\n",
       "7      1  Los Angeles-Long Beach-Anaheim  369116.05\n",
       "8     43                  Urban Honolulu  354167.97\n",
       "9     97                         Salinas  341460.01"
      ]
     },
     "execution_count": 52,
     "metadata": {},
     "output_type": "execute_result"
    }
   ],
   "source": [
    "msa_mean_sort.reset_index(inplace=True)\n",
    "msa_mean_sort.drop(columns = ['index'], inplace = True)"
   ]
  },
  {
   "cell_type": "code",
   "execution_count": 55,
   "metadata": {},
   "outputs": [
    {
     "data": {
      "text/html": [
       "<div>\n",
       "<style scoped>\n",
       "    .dataframe tbody tr th:only-of-type {\n",
       "        vertical-align: middle;\n",
       "    }\n",
       "\n",
       "    .dataframe tbody tr th {\n",
       "        vertical-align: top;\n",
       "    }\n",
       "\n",
       "    .dataframe thead th {\n",
       "        text-align: right;\n",
       "    }\n",
       "</style>\n",
       "<table border=\"1\" class=\"dataframe\">\n",
       "  <thead>\n",
       "    <tr style=\"text-align: right;\">\n",
       "      <th></th>\n",
       "      <th>MSA</th>\n",
       "      <th>MeanPrice</th>\n",
       "    </tr>\n",
       "  </thead>\n",
       "  <tbody>\n",
       "    <tr>\n",
       "      <td>0</td>\n",
       "      <td>San Jose-Sunnyvale-Santa Clara</td>\n",
       "      <td>643333.35</td>\n",
       "    </tr>\n",
       "    <tr>\n",
       "      <td>1</td>\n",
       "      <td>Port St. Lucie</td>\n",
       "      <td>574089.90</td>\n",
       "    </tr>\n",
       "    <tr>\n",
       "      <td>2</td>\n",
       "      <td>Vineyard Haven</td>\n",
       "      <td>545349.88</td>\n",
       "    </tr>\n",
       "    <tr>\n",
       "      <td>3</td>\n",
       "      <td>Kapaa</td>\n",
       "      <td>499137.71</td>\n",
       "    </tr>\n",
       "    <tr>\n",
       "      <td>4</td>\n",
       "      <td>San Francisco-Oakland-Hayward</td>\n",
       "      <td>457746.34</td>\n",
       "    </tr>\n",
       "    <tr>\n",
       "      <td>5</td>\n",
       "      <td>Kahului-Wailuku-Lahaina</td>\n",
       "      <td>429485.62</td>\n",
       "    </tr>\n",
       "    <tr>\n",
       "      <td>6</td>\n",
       "      <td>Santa Maria-Santa Barbara</td>\n",
       "      <td>423260.87</td>\n",
       "    </tr>\n",
       "    <tr>\n",
       "      <td>7</td>\n",
       "      <td>Los Angeles-Long Beach-Anaheim</td>\n",
       "      <td>369116.05</td>\n",
       "    </tr>\n",
       "    <tr>\n",
       "      <td>8</td>\n",
       "      <td>Urban Honolulu</td>\n",
       "      <td>354167.97</td>\n",
       "    </tr>\n",
       "    <tr>\n",
       "      <td>9</td>\n",
       "      <td>Salinas</td>\n",
       "      <td>341460.01</td>\n",
       "    </tr>\n",
       "  </tbody>\n",
       "</table>\n",
       "</div>"
      ],
      "text/plain": [
       "                              MSA  MeanPrice\n",
       "0  San Jose-Sunnyvale-Santa Clara  643333.35\n",
       "1                  Port St. Lucie  574089.90\n",
       "2                  Vineyard Haven  545349.88\n",
       "3                           Kapaa  499137.71\n",
       "4   San Francisco-Oakland-Hayward  457746.34\n",
       "5         Kahului-Wailuku-Lahaina  429485.62\n",
       "6       Santa Maria-Santa Barbara  423260.87\n",
       "7  Los Angeles-Long Beach-Anaheim  369116.05\n",
       "8                  Urban Honolulu  354167.97\n",
       "9                         Salinas  341460.01"
      ]
     },
     "execution_count": 55,
     "metadata": {},
     "output_type": "execute_result"
    }
   ],
   "source": [
    "\n",
    "msa_mean_sort.head(10)"
   ]
  },
  {
   "cell_type": "code",
   "execution_count": 39,
   "metadata": {},
   "outputs": [],
   "source": [
    "sns.set_style('whitegrid')"
   ]
  },
  {
   "cell_type": "code",
   "execution_count": 75,
   "metadata": {},
   "outputs": [
    {
     "data": {
      "image/png": "[encoded data removed]",
      "text/plain": [
       "<Figure size 1080x720 with 1 Axes>"
      ]
     },
     "metadata": {},
     "output_type": "display_data"
    }
   ],
   "source": [
    "fig, ax = plt.subplots(figsize=(15,10))\n",
    "x = msa_mean_sort.MSA[:10]\n",
    "y = msa_mean_sort.MeanPrice[:10]\n",
    "labels =x\n",
    "ax.scatter(x, y,label =labels)\n",
    "for i, txt in enumerate(labels):\n",
    "    ax.annotate(txt, (x[i], y[i]))\n",
    "ax.xaxis.set_ticklabels([])\n",
    "ax.set_title('Top 10 Most Expensive MSAs')\n",
    "plt.show()"
   ]
  }
 ],
 "metadata": {
  "kernelspec": {
   "display_name": "Python 3",
   "language": "python",
   "name": "python3"
  },
  "language_info": {
   "codemirror_mode": {
    "name": "ipython",
    "version": 3
   },
   "file_extension": ".py",
   "mimetype": "text/x-python",
   "name": "python",
   "nbconvert_exporter": "python",
   "pygments_lexer": "ipython3",
   "version": "3.7.4"
  }
 },
 "nbformat": 4,
 "nbformat_minor": 2
}
